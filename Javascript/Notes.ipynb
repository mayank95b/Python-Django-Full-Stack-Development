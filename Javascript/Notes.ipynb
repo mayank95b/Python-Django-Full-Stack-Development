{
 "cells": [
  {
   "cell_type": "markdown",
   "metadata": {},
   "source": [
    "## 1. JavaScript Variables\n",
    "\n",
    "Variables are Containers for Storing Data\n",
    "\n",
    "JavaScript Variables can be declared in 4 ways:\n",
    "\n",
    "- Automatically\n",
    "- Using `var`\n",
    "- Using `let`\n",
    "- Using `const`\n",
    "\n",
    "### Note\n",
    "\n",
    "The `var` keyword was used in all JavaScript code from 1995 to 2015.\n",
    "\n",
    "The `let` and `const` keywords were added to JavaScript in 2015.\n",
    "\n",
    "The `var` keyword should only be used in code written for older browsers.\n",
    "\n",
    "\n",
    "### When to Use var, let, or const?\n",
    "\n",
    "1. Always declare variables\n",
    "\n",
    "2. Always use `const` if the value should not be changed\n",
    "\n",
    "3. Always use `const` if the type should not be changed (Arrays and Objects)\n",
    "\n",
    "4. Only use `let` if you can't use const\n",
    "\n",
    "5. Only use `var` if you MUST support old browsers. Also it does'nt follow the rule of scope \n",
    "\n",
    "6. Any variable that we create inside {...} scope will only exist inside the {...}\n",
    "\n",
    "7. \n",
    "\n",
    "\n",
    "### JavaScript Identifiers\n",
    "\n",
    "All JavaScript **variables** must be **identified** with **unique names**.\n",
    "\n",
    "These unique names are called **identifiers**.\n",
    "\n",
    "Identifiers can be short names (like x and y) or more descriptive names (age, sum, totalVolume).\n",
    "\n",
    "The general rules for constructing names for variables (unique identifiers) are:\n",
    "\n",
    "- Names can contain letters, digits, underscores, and dollar signs.\n",
    "- Names must begin with a letter.\n",
    "- Names can also begin with $ and _ (but we will not use it in this tutorial).\n",
    "- Names are case sensitive (y and Y are different variables).\n",
    "- Reserved words (like JavaScript keywords) cannot be used as names.\n",
    "\n",
    "### JavaScript Dollar Sign $\n",
    "\n",
    "Since JavaScript treats a dollar sign as a letter, identifiers containing `$` are valid variable names:"
   ]
  },
  {
   "cell_type": "code",
   "execution_count": null,
   "metadata": {},
   "outputs": [],
   "source": [
    "let $ = \"Hello World\";\n",
    "let $$$ = 2;\n",
    "let $myMoney = 5;"
   ]
  },
  {
   "cell_type": "markdown",
   "metadata": {},
   "source": [
    "Using the dollar sign is not very common in JavaScript, but professional programmers often use it as an alias for the main function in a JavaScript library.\n",
    "\n",
    "In the JavaScript library jQuery, for instance, the main function `$` is used to select HTML elements. In jQuery `$(\"p\");` means \"select all p elements\"."
   ]
  },
  {
   "cell_type": "markdown",
   "metadata": {},
   "source": [
    "### JavaScript Underscore (_)\n",
    "\n",
    "Since JavaScript treats underscore as a letter, identifiers containing _ are valid variable names:\n",
    "\n",
    "Example"
   ]
  },
  {
   "cell_type": "code",
   "execution_count": null,
   "metadata": {},
   "outputs": [],
   "source": [
    "let _lastName = \"Johnson\";\n",
    "let _x = 2;\n",
    "let _100 = 5;"
   ]
  },
  {
   "cell_type": "markdown",
   "metadata": {},
   "source": [
    "Using the underscore is not very common in JavaScript, but a convention among professional programmers is to use it as an alias for \"private (hidden)\" variables."
   ]
  },
  {
   "cell_type": "markdown",
   "metadata": {},
   "source": [
    "### Naming Conventions\n",
    "\n",
    "camelcase  -   cartQuantity\n",
    "\n",
    "PascalCase -  CartQuantity\n",
    "\n",
    "Kebab-case -  cart-quantity\n",
    "\n",
    "snake_case -  cart_quantity"
   ]
  },
  {
   "cell_type": "markdown",
   "metadata": {},
   "source": [
    "## 2. JavaScript Logical Operators\n",
    "\n",
    "| Operator  |\tDescription  |\n",
    "|    ---    |      ---       |\n",
    "| &&\t    |   logical and  |\n",
    "| //\t    |   logical or   |\n",
    "| !\t        |   logical not  |\n",
    "\n",
    "### Order of Operations\n",
    "\n",
    "1. `(...)`\n",
    "2.  `* /`\n",
    "3.  `+ -`\n",
    "4. `Comparison operators`\n",
    "5. `Logical Operations`"
   ]
  },
  {
   "cell_type": "markdown",
   "metadata": {},
   "source": [
    "## Boolean and If Statement"
   ]
  },
  {
   "cell_type": "markdown",
   "metadata": {},
   "source": [
    "Falsy Values\n",
    "\n",
    "fasle   0   ''  NaN undefined   null"
   ]
  },
  {
   "cell_type": "markdown",
   "metadata": {},
   "source": [
    "### Shortcuts for If-Statements\n",
    "\n",
    "#### 1. Ternary Operator ? :\n"
   ]
  },
  {
   "cell_type": "code",
   "execution_count": null,
   "metadata": {},
   "outputs": [],
   "source": [
    "# Before Shortcut \n",
    "\n",
    "if (true) {\n",
    "    'truthy'\n",
    "}\n",
    "else {\n",
    "    'falsy'\n",
    "}\n",
    "\n",
    "# Shortcut \n",
    "\n",
    "const result = true ? 'truthy' : 'falsy'\n",
    "console.log(result)"
   ]
  },
  {
   "cell_type": "markdown",
   "metadata": {},
   "source": [
    "#### 2. Guard Operator &&\n",
    "\n",
    "value1 && value2\n",
    "- check if 2 sides are both truthy\n"
   ]
  },
  {
   "cell_type": "code",
   "execution_count": null,
   "metadata": {},
   "outputs": [],
   "source": [
    "# BEfore Shortcut\n",
    "\n",
    "let message;\n",
    "\n",
    "if (condition) {\n",
    "    message = 'hello'\n",
    "}\n",
    "\n",
    "# Shortcut\n",
    "const message = 5 && 'hello'\n",
    "console.log(message)"
   ]
  },
  {
   "cell_type": "markdown",
   "metadata": {},
   "source": [
    "#### 3. Default OR Operator ||\n",
    "\n",
    "value1 || value2\n",
    "\n",
    "- check if at least 1 side is truthy\n"
   ]
  },
  {
   "cell_type": "code",
   "execution_count": null,
   "metadata": {},
   "outputs": [],
   "source": [
    "# if else \n",
    "\n",
    "let currency;\n",
    "\n",
    "if (!condition) {\n",
    "    currency = 'USD'\n",
    "}\n",
    "\n",
    "#shortcut\n",
    "const currency = 'EUR' || 'USD'\n",
    "console.log(currency)"
   ]
  }
 ],
 "metadata": {
  "kernelspec": {
   "display_name": "Python 3",
   "language": "python",
   "name": "python3"
  },
  "language_info": {
   "name": "python",
   "version": "3.7.1"
  }
 },
 "nbformat": 4,
 "nbformat_minor": 2
}
