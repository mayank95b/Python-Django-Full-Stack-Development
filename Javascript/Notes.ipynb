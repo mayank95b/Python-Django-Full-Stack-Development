{
 "cells": [
  {
   "cell_type": "code",
   "execution_count": null,
   "metadata": {},
   "outputs": [],
   "source": []
  },
  {
   "cell_type": "markdown",
   "metadata": {},
   "source": [
    "### Naming Conventions\n",
    "\n",
    "camelcase  -   cartQuantity\n",
    "\n",
    "PascalCase -  CartQuantity\n",
    "\n",
    "Kebab-case -  cart-quantity\n",
    "\n",
    "snake_case -  cart_quantity"
   ]
  },
  {
   "cell_type": "markdown",
   "metadata": {},
   "source": []
  }
 ],
 "metadata": {
  "language_info": {
   "name": "python"
  }
 },
 "nbformat": 4,
 "nbformat_minor": 2
}
