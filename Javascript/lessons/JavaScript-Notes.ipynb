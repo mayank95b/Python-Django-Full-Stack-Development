{
 "cells": [
  {
   "cell_type": "markdown",
   "metadata": {},
   "source": [
    "# Introduction to JavaScript\n",
    "\n",
    "JavaScript is a high-level, interpreted programming language primarily used for front-end web development. \n",
    "\n",
    "- It enables developers to add interactive and dynamic elements to websites, such as animations, form validation, and responding to user actions. \n",
    "- JavaScript can also be used on the server-side with platforms like Node.js. \n",
    "- It is known for its versatility, as it supports both object-oriented and functional programming paradigms.\n",
    "\n",
    "`In HTML, JavaScript code is inserted between <script> and </script> tags.`\n",
    "\n",
    "Example\n",
    "        \n",
    "        <script>\n",
    "        document.getElementById(\"demo\").innerHTML = \"My First JavaScript\";\n",
    "        <script>`\n"
   ]
  },
  {
   "cell_type": "markdown",
   "metadata": {},
   "source": [
    "## 1. JavaScript Variables\n",
    "\n",
    "Variables are Containers for Storing Data\n",
    "\n",
    "JavaScript Variables can be declared in 4 ways:\n",
    "\n",
    "- Automatically\n",
    "- Using `var`\n",
    "- Using `let`\n",
    "- Using `const`\n",
    "\n",
    "### Note\n",
    "\n",
    "The `var` keyword was used in all JavaScript code from 1995 to 2015.\n",
    "\n",
    "The `let` and `const` keywords were added to JavaScript in 2015.\n",
    "\n",
    "The `var` keyword should only be used in code written for older browsers.\n",
    "\n",
    "\n",
    "### When to Use var, let, or const?\n",
    "\n",
    "1. Always declare variables\n",
    "\n",
    "2. Always use `const` if the value should not be changed\n",
    "\n",
    "3. Always use `const` if the type should not be changed (Arrays and Objects)\n",
    "\n",
    "4. Only use `let` if you can't use const\n",
    "\n",
    "5. Only use `var` if you MUST support old browsers. Also it does'nt follow the rule of scope \n",
    "\n",
    "6. Any variable that we create inside {...} scope will only exist inside the {...}\n",
    "\n",
    "\n",
    "\n",
    "### JavaScript Identifiers\n",
    "\n",
    "All JavaScript **variables** must be **identified** with **unique names**.\n",
    "\n",
    "These unique names are called **identifiers**.\n",
    "\n",
    "Identifiers can be short names (like x and y) or more descriptive names (age, sum, totalVolume).\n",
    "\n",
    "The general rules for constructing names for variables (unique identifiers) are:\n",
    "\n",
    "- Names can contain letters, digits, underscores, and dollar signs.\n",
    "- Names must begin with a letter.\n",
    "- Names can also begin with $ and _ (but we will not use it in this tutorial).\n",
    "- Names are case sensitive (y and Y are different variables).\n",
    "- Reserved words (like JavaScript keywords) cannot be used as names.\n",
    "\n",
    "### JavaScript Dollar Sign $\n",
    "\n",
    "Since JavaScript treats a dollar sign as a letter, identifiers containing `$` are valid variable names:"
   ]
  },
  {
   "cell_type": "code",
   "execution_count": null,
   "metadata": {},
   "outputs": [],
   "source": [
    "let $ = \"Hello World\";\n",
    "let $$$ = 2;\n",
    "let $myMoney = 5;"
   ]
  },
  {
   "cell_type": "markdown",
   "metadata": {},
   "source": [
    "Using the dollar sign is not very common in JavaScript, but professional programmers often use it as an alias for the main function in a JavaScript library.\n",
    "\n",
    "In the JavaScript library jQuery, for instance, the main function `$` is used to select HTML elements. In jQuery `$(\"p\");` means \"select all p elements\"."
   ]
  },
  {
   "cell_type": "markdown",
   "metadata": {},
   "source": [
    "### JavaScript Underscore (_)\n",
    "\n",
    "Since JavaScript treats underscore as a letter, identifiers containing _ are valid variable names:\n",
    "\n",
    "Example"
   ]
  },
  {
   "cell_type": "code",
   "execution_count": null,
   "metadata": {},
   "outputs": [],
   "source": [
    "let _lastName = \"Johnson\";\n",
    "let _x = 2;\n",
    "let _100 = 5;"
   ]
  },
  {
   "cell_type": "markdown",
   "metadata": {},
   "source": [
    "Using the underscore is not very common in JavaScript, but a convention among professional programmers is to use it as an alias for \"private (hidden)\" variables."
   ]
  },
  {
   "cell_type": "markdown",
   "metadata": {},
   "source": [
    "### Naming Conventions\n",
    "\n",
    "camelcase  -   cartQuantity\n",
    "\n",
    "PascalCase -  CartQuantity\n",
    "\n",
    "Kebab-case -  cart-quantity\n",
    "\n",
    "snake_case -  cart_quantity"
   ]
  },
  {
   "cell_type": "markdown",
   "metadata": {},
   "source": [
    "## 2. JavaScript Logical Operators\n",
    "\n",
    "| Operator  |\tDescription  |\n",
    "|    ---    |      ---       |\n",
    "| &&\t    |   logical and  |\n",
    "| //\t    |   logical or   |\n",
    "| !\t        |   logical not  |\n",
    "\n",
    "### Order of Operations\n",
    "\n",
    "1. `(...)`\n",
    "2.  `* /`\n",
    "3.  `+ -`\n",
    "4. `Comparison operators`\n",
    "5. `Logical Operations`"
   ]
  },
  {
   "cell_type": "markdown",
   "metadata": {},
   "source": [
    "## 3. Boolean and If Statement"
   ]
  },
  {
   "cell_type": "markdown",
   "metadata": {},
   "source": [
    "Falsy Values\n",
    "\n",
    "    fasle   0   ''  NaN undefined   null\n",
    "\n",
    "null just behave like false\n",
    "\n",
    "#### <u>null vs undefined</u>\n",
    "\n",
    "null = intentionally want something to be empty"
   ]
  },
  {
   "cell_type": "markdown",
   "metadata": {},
   "source": [
    "### Shortcuts for If-Statements\n",
    "\n",
    "#### 1. Ternary Operator ? :\n"
   ]
  },
  {
   "cell_type": "code",
   "execution_count": null,
   "metadata": {},
   "outputs": [],
   "source": [
    "# Before Shortcut \n",
    "\n",
    "if (true) {\n",
    "    'truthy'\n",
    "}\n",
    "else {\n",
    "    'falsy'\n",
    "}\n",
    "\n",
    "# Shortcut \n",
    "\n",
    "const result = true ? 'truthy' : 'falsy'\n",
    "console.log(result)"
   ]
  },
  {
   "cell_type": "markdown",
   "metadata": {},
   "source": [
    "#### 2. Guard Operator &&\n",
    "\n",
    "value1 && value2\n",
    "- check if 2 sides are both truthy\n"
   ]
  },
  {
   "cell_type": "code",
   "execution_count": null,
   "metadata": {},
   "outputs": [],
   "source": [
    "# BEfore Shortcut\n",
    "\n",
    "let message;\n",
    "\n",
    "if (condition) {\n",
    "    message = 'hello'\n",
    "}\n",
    "\n",
    "# Shortcut\n",
    "const message = 5 && 'hello'\n",
    "console.log(message)"
   ]
  },
  {
   "cell_type": "markdown",
   "metadata": {},
   "source": [
    "#### 3. Default OR Operator ||\n",
    "\n",
    "value1 || value2\n",
    "\n",
    "- check if at least 1 side is truthy\n"
   ]
  },
  {
   "cell_type": "code",
   "execution_count": null,
   "metadata": {},
   "outputs": [],
   "source": [
    "# if else \n",
    "\n",
    "let currency;\n",
    "\n",
    "if (!condition) {\n",
    "    currency = 'USD'\n",
    "}\n",
    "\n",
    "#shortcut\n",
    "const currency = 'EUR' || 'USD'\n",
    "console.log(currency)"
   ]
  },
  {
   "cell_type": "markdown",
   "metadata": {},
   "source": [
    "## 4. Functions\n",
    "\n",
    "A JavaScript function is a block of code designed to perform a particular task. It let us reuse code.\n",
    "\n",
    "A JavaScript function is executed when \"something\" invokes it (calls it).\n",
    "\n",
    "Example "
   ]
  },
  {
   "cell_type": "code",
   "execution_count": null,
   "metadata": {},
   "outputs": [],
   "source": [
    "// Function to compute the product of p1 and p2\n",
    "function myFunction(p1, p2) {\n",
    "  return p1 * p2;\n",
    "}"
   ]
  },
  {
   "cell_type": "markdown",
   "metadata": {},
   "source": [
    "Return  = gets a  value out of a function\n",
    "\n",
    "parameter = puts a value into a function\n",
    "\n",
    "### Note  \n",
    "`returning a variable is actually preferred over using a global variable because a scope can  help us prevent a naming conflicts, so all the variablesinside the function will not conflict with anything  outside the scope.`\n",
    " \n"
   ]
  },
  {
   "cell_type": "markdown",
   "metadata": {},
   "source": [
    "## 5. Objects\n",
    "\n",
    "An Object groups multiple values together.\n",
    "\n",
    "Example \n"
   ]
  },
  {
   "cell_type": "code",
   "execution_count": null,
   "metadata": {},
   "outputs": [],
   "source": [
    "const person = {\n",
    "  firstName: \"John\",\n",
    "  lastName: \"Doe\",\n",
    "  age: 50,\n",
    "  eyeColor: \"blue\"\n",
    "};"
   ]
  },
  {
   "cell_type": "markdown",
   "metadata": {},
   "source": [
    "### Object Properties\n",
    "\n",
    "The `name:values` pairs in JavaScript objects are called `properties`:\n",
    "\n",
    "|Property |\tProperty Value|\n",
    "|   ----  |    ----       |\n",
    "|firstName|\tJohn|\n",
    "|lastName|\tDoe|\n",
    "|age|\t50|\n",
    "|eyeColor|\tblue|\n",
    "\n",
    "\n",
    "### Accessing Object Properties\n",
    "\n",
    "You can access object properties in two ways:\n",
    "\n",
    "*objectName.propertyName*\n",
    "\n",
    "or\n",
    "\n",
    "*objectName[\"propertyName\"]*\n"
   ]
  },
  {
   "cell_type": "markdown",
   "metadata": {},
   "source": [
    "### Object Methods\n",
    "\n",
    "Objects can also have `methods`.\n",
    "\n",
    "Methods are `actions` that can be performed on objects.\n",
    "\n",
    "Methods are stored in properties as `function definitions`.\n",
    "\n",
    "|Property |\tProperty Value|\n",
    "|   ----  |    ----       |\n",
    "|firstName|\tJohn|\n",
    "|lastName|\tDoe|\n",
    "|age|\t50|\n",
    "|eyeColor|\tblue|\n",
    "|fullName|\tfunction() {return this.firstName + \" \" + this.lastName;}|\n",
    "\n",
    "\n",
    "`A method is a function stored as a property.`\n"
   ]
  },
  {
   "cell_type": "code",
   "execution_count": null,
   "metadata": {},
   "outputs": [],
   "source": [
    "#Example\n",
    "\n",
    "const person = {\n",
    "  firstName: \"John\",\n",
    "  lastName : \"Doe\",\n",
    "  id       : 5566,\n",
    "  fullName : function() {\n",
    "    return this.firstName + \" \" + this.lastName;\n",
    "  }\n",
    "};"
   ]
  },
  {
   "cell_type": "markdown",
   "metadata": {},
   "source": [
    "### Accessing Object Methods\n",
    "\n",
    "You access an object method with the following syntax:\n",
    "\n",
    "*objectName.methodName()*\n",
    "\n",
    "#### Example\n",
    "\n",
    "name = person.fullName();"
   ]
  },
  {
   "cell_type": "markdown",
   "metadata": {},
   "source": [
    "### Do Not Declare Strings, Numbers, and Booleans as Objects!\n",
    "\n",
    "When a JavaScript variable is declared with the keyword \"`new`\", the variable is created as an object:\n",
    "\n",
    "x = new String();        // Declares x as a String object\n",
    "y = new Number();        // Declares y as a Number object\n",
    "z = new Boolean();       // Declares z as a Boolean object\n",
    "\n",
    "Avoid `String`, `Number`, and `Boolean` objects. They complicate your code and slow down execution speed."
   ]
  },
  {
   "cell_type": "markdown",
   "metadata": {},
   "source": [
    "## Built-in Objects\n",
    "\n",
    "### JSON \n",
    "\n",
    "- stands for Javascript Object Notation.\n",
    "- It it similar to Javascipt object but with less features.\n",
    "\n",
    "{\n",
    "\n",
    "    \"name\" : \"Martin\",\n",
    "    \"age\" : \"28\",\n",
    "    \"email\" : \"martin123@gmail.com\"\n",
    "}\n",
    "\n",
    "`NOTE: JSON does not support 'single quotes' `\n",
    "\n",
    "- Convert Javascript Object to JSON\n",
    "\n",
    "    JSON.stringify(object);\n",
    "\n",
    "- Convert JSON back to Javascript Object\n",
    "\n",
    "    JSON.parse(jsonString);      \n",
    "\n",
    "### localStorage\n",
    "\n",
    "- save values more permanently\n",
    "- variables are temporary. if we refresh / close the page all the variables are deleted.\n",
    "- localStorage only supports string\n",
    "\n",
    "#### example\n",
    "\n",
    "    localStorage.getItem('score')\n",
    "\n",
    "    localStorage.setItem('score', JSON.stringify(score));\n",
    "\n",
    "\n",
    "\n"
   ]
  },
  {
   "cell_type": "markdown",
   "metadata": {},
   "source": [
    "### Auto-Boxing\n",
    "\n",
    "String can also have properties and methods\n",
    "\n",
    "- JavaScript automatically wraps the string in a special object first and this object has the property length and the method toUpperCase\n",
    "\n",
    "    Example:\n",
    "\n",
    "        console.log('hello'.length)\n",
    "    \n",
    "        console.log('hello'.toUpperCase());\n",
    "\n",
    "- Auto-boxing also works with other types of values like numbers and booleans\n",
    "\n",
    "    Example:\n",
    "    \n",
    "        3.0.toString()\n",
    "    \n",
    "        true.toString()\n",
    "        \n",
    "- It does not works with null and undefined\n"
   ]
  },
  {
   "cell_type": "markdown",
   "metadata": {},
   "source": [
    "### Object are References\n",
    "\n",
    "#### Copy by Reference\n",
    "\n",
    "the actual value is created somewhere in computer's memory and this variable actually get a reference that points to a location in the computer's memory\n",
    "\n",
    "Example:\n",
    "\n",
    "        const object1 = {\n",
    "                message: 'hello'\n",
    "        };\n",
    "\n",
    "        const object2 = object1\n",
    "        object1.message = 'Good job';\n",
    "        console.log(object1);  --> will print {message: 'Good job'}\n",
    "        console.log(object2);  --> will also print {message: 'Good job'}\n",
    "\n",
    "`NOTE` : const prevent us from changing the reference in the variable but it doesn't prevent from reaching into the reference and  chaging the object that it's pointing to.\n",
    "\n",
    "\n",
    "#### Shortcuts in object\n",
    "\n",
    "#### 1. Destructing\n",
    "- easier way to take properties out of an object\n",
    "\n",
    "        const object4 = {\n",
    "            message: 'Good job',\n",
    "            price: 799\n",
    "        };\n",
    "\n",
    "        // const message = object4.message\n",
    "        const { message, price } = object 4;\n",
    "        console.log(message);\n",
    "        console.log(price);\n",
    "\n",
    "#### 2. Shorthand property\n",
    "\n",
    "With Shorthand Properties, whenever you have a variable which is the same name as a property on an object, when constructing the object, you can omit the property name\n",
    "\n",
    "        const object5 = {\n",
    "                message: message\n",
    "        };\n",
    "\n",
    "Shorthand property, can now look like this:\n",
    "\n",
    "        const object5 = {\n",
    "                message \n",
    "        };\n",
    "\n",
    "        console.log(object5); --> prints {message: 'Good job'}\n",
    "\n",
    "#### 3. Shorthand Method\n",
    "\n",
    "A function that is a property on an object is called a method. With ES6's Shorthand Method Names, you can omit the function keyword completely. What that means is that code that used to look like this,\n",
    "\n",
    "        const object5 = {\n",
    "                message,\n",
    "                method:function function1() {   \n",
    "                        console.log('method');\n",
    "                }\n",
    "        };\n",
    "\n",
    "can now look like this Shorthand Method:\n",
    "\n",
    "        const object5 ={\n",
    "                method(){\n",
    "                console.log('method');  --> shortcut \n",
    "                }\n",
    "        };\n",
    "\n",
    "        console.log(object5);\n",
    "        object5.method();\n",
    "\n"
   ]
  },
  {
   "cell_type": "markdown",
   "metadata": {},
   "source": [
    "# Document Object Model (DOM)\n",
    "\n",
    "When a web page is loaded, the browser creates a Document Object Model of the page.\n",
    "\n",
    "### What is the DOM?\n",
    "\n",
    "The DOM is a W3C (World Wide Web Consortium) standard.\n",
    "\n",
    "The DOM defines a standard for accessing documents:\n",
    "\n",
    "*\"The W3C Document Object Model (DOM) is a platform and language-neutral interface that allows programs and scripts to dynamically access and update the content, structure, and style of a document.\"*\n"
   ]
  },
  {
   "cell_type": "markdown",
   "metadata": {},
   "source": [
    "# Example\n",
    "\n",
    "**document.body.innerHTML()** - let us give the full control over the entire html content.\n",
    "\n",
    "    <html lang=\"en\">\n",
    "    <head>\n",
    "        <title>Document</title>\n",
    "    </head>\n",
    "    <body>\n",
    "        <button>hello</button>\n",
    "\n",
    "        <script>\n",
    "            console.log(document.title);\n",
    "            document.title = 'Changed';\n",
    "            \n",
    "            document.body.innerHTML = 'hello';\n",
    "            document.title = 'Good Job!';\n",
    "        </script>\n",
    "    </body>\n",
    "    </html>\n",
    "\n",
    "`Note` : when a html element is inside the javascript like mentioned above the HTML element is converted into a JavaScript object.\n",
    "\n",
    "**document.querySelector()** - lets us get any element from the page and put it inside JavaScript.\n",
    "\n",
    "        <html lang=\"en\">\n",
    "        <head>\n",
    "            <title>Document</title>\n",
    "        </head>\n",
    "        <body>\n",
    "            <button>hello</button>\n",
    "\n",
    "            <script>\n",
    "                console.log(document.querySelector('button'));\n",
    "            </script>\n",
    "        </body>\n",
    "        </html>"
   ]
  },
  {
   "cell_type": "markdown",
   "metadata": {},
   "source": [
    "### Event Listeners\n",
    "\n",
    "    onclick         = click\n",
    "    onkeydown       = key press\n",
    "    onscroll        = scrolling\n",
    "    onmouseenter    = hovering over\n",
    "    onmouseleave    = stop hovering over"
   ]
  },
  {
   "cell_type": "markdown",
   "metadata": {},
   "source": [
    "# Arrays and Loops\n",
    "\n",
    "An array is a special variable, which can hold more than one value:\n",
    "\n",
    "        const cars = [\"Saab\", \"Volvo\", \"BMW\"];\n",
    "\n",
    "### Using the JavaScript Keyword new\n",
    "\n",
    "The following example also creates an Array, and assigns values to it:\n",
    "\n",
    "        const cars = new Array(\"Saab\", \"Volvo\", \"BMW\");\n",
    "\n",
    "### Accessing Array Elements\n",
    "\n",
    "You access an array element by referring to the index number:\n",
    "\n",
    "        const cars = [\"Saab\", \"Volvo\", \"BMW\"];\n",
    "        let car = cars[0];\n",
    "\n",
    "`Note:` Array indexes start with 0.\n",
    "\n",
    "[0] is the first element. [1] is the second element.\n",
    "\n",
    "### Converting an Array to a String\n",
    "\n",
    "The JavaScript method toString() converts an array to a string of (comma separated) array values\n",
    "\n",
    "Example\n",
    "\n",
    "        const fruits = [\"Banana\", \"Orange\", \"Apple\", \"Mango\"];\n",
    "        document.getElementById(\"demo\").innerHTML = fruits.toString();\n",
    "\n",
    "Result:\n",
    "\n",
    "        Banana,Orange,Apple,Mango"
   ]
  },
  {
   "cell_type": "markdown",
   "metadata": {},
   "source": [
    "# JavaScript Loops\n",
    "\n",
    "Loops are handy, if you want to run the same code over and over again, each time with a different value.\n",
    "\n",
    "You can write:\n",
    "\n",
    "    for (let i = 0; i < cars.length; i++) {\n",
    "        text += cars[i] + \"<br>\";\n",
    "    }\n",
    "\n",
    "### Different Kinds of Loops\n",
    "\n",
    "JavaScript supports different kinds of loops:\n",
    "\n",
    "- `for` - loops through a block of code a number of times\n",
    "- `for/in` - loops through the properties of an object\n",
    "- `for/of` - loops through the values of an iterable object\n",
    "- `while` - loops through a block of code while a specified condition is true\n",
    "- `do/while` - also loops through a block of code while a specified condition is true\n",
    "\n",
    "\n",
    "break = exit a loop early\n",
    "continue = skip 1 iteration of a loop\n",
    "\n",
    "example\n",
    "\n",
    "for (let i = 1; i<=10; i++>) {\n",
    "    if (i ===3 ) {\n",
    "        continue;\n",
    "    }\n",
    "    if (i ===8) {\n",
    "        break;\n",
    "    }\n",
    "}"
   ]
  },
  {
   "cell_type": "markdown",
   "metadata": {},
   "source": []
  }
 ],
 "metadata": {
  "kernelspec": {
   "display_name": "Python 3",
   "language": "python",
   "name": "python3"
  },
  "language_info": {
   "name": "python",
   "version": "3.12.3"
  }
 },
 "nbformat": 4,
 "nbformat_minor": 2
}
