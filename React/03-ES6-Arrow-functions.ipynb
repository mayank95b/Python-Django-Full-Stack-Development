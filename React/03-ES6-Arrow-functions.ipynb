{
 "cells": [
  {
   "cell_type": "markdown",
   "metadata": {},
   "source": [
    "# React ES6 Arrow Functions"
   ]
  },
  {
   "cell_type": "markdown",
   "metadata": {},
   "source": [
    "## Arrow Functions\n",
    "\n",
    "Arrow functions allow us to write shorter function syntax:\n",
    "\n",
    "### Example"
   ]
  },
  {
   "cell_type": "code",
   "execution_count": null,
   "metadata": {},
   "outputs": [],
   "source": [
    "#Before:\n",
    "\n",
    "hello = function() {\n",
    "  return \"Hello World!\";\n",
    "}"
   ]
  },
  {
   "cell_type": "code",
   "execution_count": null,
   "metadata": {},
   "outputs": [],
   "source": [
    "# With Arrow Function:\n",
    "\n",
    "hello = () => {\n",
    "  return \"Hello World!\";\n",
    "}"
   ]
  },
  {
   "cell_type": "markdown",
   "metadata": {},
   "source": [
    "It gets shorter! If the function has only one statement, and the statement returns a value, you can remove the brackets and the `return` keyword:\n",
    "\n",
    "### Example\n",
    "\n",
    "Arrow Functions Return Value by Default:"
   ]
  },
  {
   "cell_type": "code",
   "execution_count": null,
   "metadata": {},
   "outputs": [],
   "source": [
    "hello = () => \"Hello World!\";"
   ]
  },
  {
   "cell_type": "markdown",
   "metadata": {},
   "source": [
    "`Note: This works only if the function has only one statement.`"
   ]
  },
  {
   "cell_type": "code",
   "execution_count": null,
   "metadata": {},
   "outputs": [],
   "source": [
    "# Arrow Function With Parameters:\n",
    "\n",
    "hello = (val) => \"Hello \" + val;"
   ]
  },
  {
   "cell_type": "markdown",
   "metadata": {},
   "source": [
    "## What About `this`?\n",
    "\n",
    "The handling of `this` is also different in arrow functions compared to regular functions.\n",
    "\n",
    "In short, with arrow functions there is no binding of `this`.\n",
    "\n",
    "In regular functions the `this` keyword represented the object that called the function, which could be the window, the document, a button or whatever.\n",
    "\n",
    "With arrow functions, the `this` keyword always represents the object that defined the arrow function.\n",
    "\n",
    "Let us take a look at two examples to understand the difference.\n",
    "\n",
    "Both examples call a method twice, first when the page loads, and once again when the user clicks a button.\n",
    "\n",
    "The first example uses a regular function, and the second example uses an arrow function.\n",
    "\n",
    "The result shows that the first example returns two different objects (window and button), and the second example returns the Header object twice.\n",
    "\n",
    "### Example\n",
    "\n",
    "With a regular function, this represents the object that called the function:"
   ]
  },
  {
   "cell_type": "code",
   "execution_count": null,
   "metadata": {},
   "outputs": [],
   "source": [
    "class Header {\n",
    "  constructor() {\n",
    "    this.color = \"Red\";\n",
    "  }\n",
    "\n",
    "//Regular function:\n",
    "  changeColor = function() {\n",
    "    document.getElementById(\"demo\").innerHTML += this;\n",
    "  }\n",
    "}\n",
    "\n",
    "const myheader = new Header();\n",
    "\n",
    "//The window object calls the function:\n",
    "window.addEventListener(\"load\", myheader.changeColor);\n",
    "\n",
    "//A button object calls the function:\n",
    "document.getElementById(\"btn\").addEventListener(\"click\", myheader.changeColor);"
   ]
  },
  {
   "cell_type": "markdown",
   "metadata": {},
   "source": [
    "### Example\n",
    "\n",
    "With an arrow function, `this` represents the Header object no matter who called the function:"
   ]
  },
  {
   "cell_type": "code",
   "execution_count": null,
   "metadata": {},
   "outputs": [],
   "source": [
    "class Header {\n",
    "  constructor() {\n",
    "    this.color = \"Red\";\n",
    "  }\n",
    "\n",
    "//Arrow function:\n",
    "  changeColor = () => {\n",
    "    document.getElementById(\"demo\").innerHTML += this;\n",
    "  }\n",
    "}\n",
    "\n",
    "const myheader = new Header();\n",
    "\n",
    "\n",
    "//The window object calls the function:\n",
    "window.addEventListener(\"load\", myheader.changeColor);\n",
    "\n",
    "//A button object calls the function:\n",
    "document.getElementById(\"btn\").addEventListener(\"click\", myheader.changeColor);"
   ]
  },
  {
   "cell_type": "markdown",
   "metadata": {},
   "source": [
    "Remember these differences when you are working with functions. Sometimes the behavior of regular functions is what you want, if not, use arrow functions."
   ]
  },
  {
   "cell_type": "markdown",
   "metadata": {},
   "source": []
  }
 ],
 "metadata": {
  "kernelspec": {
   "display_name": "Python 3",
   "language": "python",
   "name": "python3"
  },
  "language_info": {
   "name": "python",
   "version": "3.7.1"
  }
 },
 "nbformat": 4,
 "nbformat_minor": 2
}
