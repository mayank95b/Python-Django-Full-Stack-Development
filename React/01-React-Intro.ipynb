{
 "cells": [
  {
   "cell_type": "markdown",
   "metadata": {},
   "source": [
    "# React Fundamentals "
   ]
  },
  {
   "cell_type": "markdown",
   "metadata": {},
   "source": [
    "### What is React?\n",
    "\n",
    "React is a JavaScript library created by Facebook for building user interfaces.\n",
    "\n",
    " - React is used to build single-page applications.\n",
    "\n",
    "- React allows us to create reusable UI components.\n",
    "\n",
    "### How does React Work?\n",
    "\n",
    "`React creates a VIRTUAL DOM in memory.`\n",
    "\n",
    "Instead of manipulating the browser's DOM directly, React creates a virtual DOM in memory, where it does all the necessary manipulating, before making the changes in the browser DOM.\n",
    "\n",
    "`React only changes what needs to be changed!`\n",
    "\n",
    "React finds out what changes have been made, and changes only what needs to be changed.\n",
    "\n",
    "### React Getting Started\n",
    "\n",
    "`To use React in production, you need npm which is included with Node.js.`\n"
   ]
  },
  {
   "cell_type": "markdown",
   "metadata": {},
   "source": [
    "### React Directly in HTML\n",
    "\n",
    "The quickest way start learning React is to write React directly in your HTML files.\n",
    "\n",
    "Start by including three scripts, the first two let us write React code in our JavaScripts, and the third, Babel, allows us to write JSX syntax and ES6 in older browsers."
   ]
  },
  {
   "cell_type": "markdown",
   "metadata": {},
   "source": [
    "<!DOCTYPE html>\n",
    "<html>\n",
    "  <head>\n",
    "    <script src=\"https://unpkg.com/react@18/umd/react.development.js\" crossorigin></script>\n",
    "    <script src=\"https://unpkg.com/react-dom@18/umd/react-dom.development.js\" crossorigin></script>\n",
    "    <script src=\"https://unpkg.com/@babel/standalone/babel.min.js\"></script>\n",
    "  </head>\n",
    "  <body>\n",
    "\n",
    "    <div id=\"mydiv\"></div>\n",
    "\n",
    "    <script type=\"text/babel\">\n",
    "      function Hello() {\n",
    "        return <h1>Hello World!</h1>;\n",
    "      }\n",
    "\n",
    "      const container = document.getElementById('mydiv');\n",
    "      const root = ReactDOM.createRoot(container);\n",
    "      root.render(<Hello />)\n",
    "    </script>\n",
    "\n",
    "  </body>\n",
    "</html>"
   ]
  },
  {
   "cell_type": "markdown",
   "metadata": {},
   "source": [
    "### Setting up a React Environment\n",
    "\n",
    "If you have npx and Node.js installed, you can create a React application by using create-react-app.\n",
    "\n",
    "`If you've previously installed create-react-app globally, it is recommended that you uninstall the package to ensure npx always uses the latest version of create-react-app.`\n",
    "\n",
    "To uninstall, run this command: `npm uninstall -g create-react-app`.\n"
   ]
  },
  {
   "cell_type": "markdown",
   "metadata": {},
   "source": [
    "Run this command to create a React application named my-react-app:\n",
    "\n",
    "`npx create-react-app my-react-app`\n",
    "\n",
    "The ``create-react-app`` will set up everything you need to run a React application.\n"
   ]
  },
  {
   "cell_type": "markdown",
   "metadata": {},
   "source": [
    "### Run the React Application\n",
    "\n",
    "Now you are ready to run your first real React application!\n",
    "\n",
    "Run this command to move to the my-react-app directory:\n",
    "\n",
    "`cd my-react-app`\n",
    "\n",
    "Run this command to run the React application my-react-app:\n",
    "\n",
    "`npm start`\n",
    "\n",
    "A new browser window will pop up with your newly created React App! If not, open your browser and type `localhost:3000` in the address bar."
   ]
  },
  {
   "cell_type": "markdown",
   "metadata": {},
   "source": [
    "### Modify the React Application\n",
    "\n",
    "Look in the `my-react-app` directory, and you will find a `src` folder. Inside the `src` folder there is a file called `App.js`, open it and Replace all the content inside the `<div className=\"App\">` with a `<h1>` element.\n",
    "\n",
    "See the changes in the browser when you click Save."
   ]
  },
  {
   "cell_type": "markdown",
   "metadata": {},
   "source": [
    "function App() {\n",
    "  return (\n",
    "    <div className=\"App\">\n",
    "      <h1>Hello World!</h1>\n",
    "    </div>\n",
    "  );\n",
    "}\n",
    "\n",
    "export default App;"
   ]
  },
  {
   "cell_type": "markdown",
   "metadata": {
    "vscode": {
     "languageId": "plaintext"
    }
   },
   "source": [
    "## React ES6\n",
    "\n",
    "### What is ES6?\n",
    "\n",
    "ES6 stands for ECMAScript 6.\n",
    "\n",
    "ECMAScript was created to standardize JavaScript, and ES6 is the 6th version of ECMAScript, it was published in 2015, and is also known as ECMAScript 2015.\n",
    "\n",
    "### Why Should I Learn ES6?\n",
    "\n",
    "React uses ES6, and you should be familiar with some of the new features like:\n",
    "\n",
    "- Classes\n",
    "- Arrow Functions\n",
    "- Variables (let, const, var)\n",
    "- Array Methods like .map()\n",
    "- Destructuring\n",
    "- Modules\n",
    "- Ternary Operator\n",
    "- Spread Operator\n"
   ]
  },
  {
   "cell_type": "markdown",
   "metadata": {},
   "source": []
  }
 ],
 "metadata": {
  "language_info": {
   "name": "python"
  }
 },
 "nbformat": 4,
 "nbformat_minor": 2
}
