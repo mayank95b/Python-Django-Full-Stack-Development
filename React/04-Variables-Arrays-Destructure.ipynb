{
 "cells": [
  {
   "cell_type": "markdown",
   "metadata": {},
   "source": [
    "# React ES6 Variables, Array Functions and Destructure\n",
    "\n",
    "## Variables\n",
    "\n",
    "Before ES6 there was only one way of defining your variables: with the `var` keyword. If you did not define them, they would be assigned to the global object. Unless you were in strict mode, then you would get an error if your variables were undefined.\n",
    "\n",
    "Now, with ES6, there are three ways of defining your variables: `var`, `let`, and `const`."
   ]
  },
  {
   "cell_type": "markdown",
   "metadata": {},
   "source": [
    "### var\n",
    "\n",
    "- If you use `var` outside of a function, it belongs to the global scope.\n",
    "\n",
    "- If you use `var` inside of a function, it belongs to that function.\n",
    "\n",
    "- If you use `var` inside of a block, i.e. a for loop, the variable is still available outside of that block."
   ]
  },
  {
   "cell_type": "code",
   "execution_count": null,
   "metadata": {},
   "outputs": [],
   "source": [
    "# Example\n",
    "\n",
    "var x = 5.6;"
   ]
  },
  {
   "cell_type": "markdown",
   "metadata": {},
   "source": [
    "### let\n",
    "\n",
    "`let` is the block scoped version of `var`, and is limited to the block (or expression) where it is defined.\n",
    "\n",
    "If you use `let` inside of a block, i.e. a for loop, the variable is only available inside of that loop."
   ]
  },
  {
   "cell_type": "code",
   "execution_count": null,
   "metadata": {},
   "outputs": [],
   "source": [
    "# Example\n",
    "\n",
    "let x = 5.6;"
   ]
  },
  {
   "cell_type": "markdown",
   "metadata": {},
   "source": [
    "### Const\n",
    "\n",
    "`const` is a variable that once it has been created, its value can never change.\n",
    "\n",
    "`const has a block scope.`\n",
    "\n",
    "The keyword `const` is a bit misleading.\n",
    "\n",
    "It does not define a constant value. It defines a constant reference to a value.\n",
    "\n",
    "Because of this you can NOT:\n",
    "\n",
    "- Reassign a constant value\n",
    "- Reassign a constant array\n",
    "- Reassign a constant object\n",
    "But you CAN:\n",
    "\n",
    "- Change the elements of constant array\n",
    "- Change the properties of constant object\n"
   ]
  },
  {
   "cell_type": "code",
   "execution_count": null,
   "metadata": {},
   "outputs": [],
   "source": [
    "#Example\n",
    "\n",
    "const x = 5.6;"
   ]
  },
  {
   "cell_type": "markdown",
   "metadata": {},
   "source": [
    "## Array Methods\n",
    "\n",
    "There are many JavaScript array methods.\n",
    "\n",
    "One of the most useful in React is the `.map()` array method.\n",
    "\n",
    "The `.map()` method allows you to run a function on each item in the array, returning a new array as the result.\n",
    "\n",
    "In React, `map()` can be used to generate lists.\n",
    "\n",
    "### Example\n",
    "\n",
    "Generate a list of items from an array:"
   ]
  },
  {
   "cell_type": "code",
   "execution_count": null,
   "metadata": {},
   "outputs": [],
   "source": [
    "import React from 'react';\n",
    "import ReactDOM from 'react-dom/client';\n",
    "\n",
    "const myArray = ['apple', 'banana', 'orange'];\n",
    "\n",
    "const myList = myArray.map((item) => <p>{item}</p>)\n",
    "\n",
    "const container = document.getElementById('root');\n",
    "const root = ReactDOM.createRoot(container);\n",
    "root.render(myList);"
   ]
  },
  {
   "cell_type": "markdown",
   "metadata": {},
   "source": [
    "## Destructuring\n",
    "\n",
    "To illustrate destructuring, we'll make a sandwich. Do you take everything out of the refrigerator to make your sandwich? No, you only take out the items you would like to use on your sandwich.\n",
    "\n",
    "Destructuring is exactly the same. We may have an array or object that we are working with, but we only need some of the items contained in these.\n",
    "\n",
    "Destructuring makes it easy to extract only what is needed."
   ]
  },
  {
   "cell_type": "markdown",
   "metadata": {},
   "source": [
    "### Destructing Arrays\n",
    "\n",
    "Here is the old way of assigning array items to a variable:"
   ]
  },
  {
   "cell_type": "code",
   "execution_count": 1,
   "metadata": {},
   "outputs": [
    {
     "ename": "SyntaxError",
     "evalue": "invalid syntax (<ipython-input-1-8c2c336630f7>, line 3)",
     "output_type": "error",
     "traceback": [
      "\u001b[1;36m  File \u001b[1;32m\"<ipython-input-1-8c2c336630f7>\"\u001b[1;36m, line \u001b[1;32m3\u001b[0m\n\u001b[1;33m    const vehicles = ['mustang', 'f-150', 'expedition'];\u001b[0m\n\u001b[1;37m                 ^\u001b[0m\n\u001b[1;31mSyntaxError\u001b[0m\u001b[1;31m:\u001b[0m invalid syntax\n"
     ]
    }
   ],
   "source": [
    "#Example -Before\n",
    "\n",
    "const vehicles = ['mustang', 'f-150', 'expedition'];\n",
    "\n",
    "// old way\n",
    "const car = vehicles[0];\n",
    "const truck = vehicles[1];\n",
    "const suv = vehicles[2];"
   ]
  },
  {
   "cell_type": "markdown",
   "metadata": {},
   "source": [
    "Here is the new way of assigning array items to a variable:"
   ]
  },
  {
   "cell_type": "code",
   "execution_count": null,
   "metadata": {},
   "outputs": [],
   "source": [
    "# Example - With destructuring:\n",
    "\n",
    "const vehicles = ['mustang', 'f-150', 'expedition'];\n",
    "\n",
    "const [car, truck, suv] = vehicles;"
   ]
  },
  {
   "cell_type": "markdown",
   "metadata": {},
   "source": [
    "`When destructuring arrays, the order that variables are declared is important.`\n",
    "\n",
    "If we only want the car and suv we can simply leave out the truck but keep the comma:"
   ]
  },
  {
   "cell_type": "code",
   "execution_count": null,
   "metadata": {},
   "outputs": [],
   "source": [
    "const vehicles = ['mustang', 'f-150', 'expedition'];\n",
    "\n",
    "const [car,, suv] = vehicles;"
   ]
  },
  {
   "cell_type": "code",
   "execution_count": 2,
   "metadata": {},
   "outputs": [
    {
     "ename": "SyntaxError",
     "evalue": "invalid syntax (<ipython-input-2-aa9658d27fdc>, line 3)",
     "output_type": "error",
     "traceback": [
      "\u001b[1;36m  File \u001b[1;32m\"<ipython-input-2-aa9658d27fdc>\"\u001b[1;36m, line \u001b[1;32m3\u001b[0m\n\u001b[1;33m    function calculate(a, b) {\u001b[0m\n\u001b[1;37m                     ^\u001b[0m\n\u001b[1;31mSyntaxError\u001b[0m\u001b[1;31m:\u001b[0m invalid syntax\n"
     ]
    }
   ],
   "source": [
    "# Destructuring comes in handy when a function returns an array:\n",
    "\n",
    "function calculate(a, b) {\n",
    "  const add = a + b;\n",
    "  const subtract = a - b;\n",
    "  const multiply = a * b;\n",
    "  const divide = a / b;\n",
    "\n",
    "  return [add, subtract, multiply, divide];\n",
    "}\n",
    "\n",
    "const [add, subtract, multiply, divide] = calculate(4, 7);\n"
   ]
  },
  {
   "cell_type": "markdown",
   "metadata": {},
   "source": [
    "## Destructuring Objects\n",
    "\n",
    "Here is the old way of using an object inside a function:"
   ]
  },
  {
   "cell_type": "code",
   "execution_count": null,
   "metadata": {},
   "outputs": [],
   "source": [
    "const vehicleOne = {\n",
    "  brand: 'Ford',\n",
    "  model: 'Mustang',\n",
    "  type: 'car',\n",
    "  year: 2021, \n",
    "  color: 'red'\n",
    "}\n",
    "\n",
    "myVehicle(vehicleOne);\n",
    "\n",
    "// old way\n",
    "function myVehicle(vehicle) {\n",
    "  const message = 'My ' + vehicle.type + ' is a ' + vehicle.color + ' ' + vehicle.brand + ' ' + vehicle.model + '.';\n",
    "}"
   ]
  },
  {
   "cell_type": "markdown",
   "metadata": {},
   "source": [
    "Here is the new way of using an object inside a function:"
   ]
  },
  {
   "cell_type": "code",
   "execution_count": null,
   "metadata": {},
   "outputs": [],
   "source": [
    "const vehicleOne = {\n",
    "  brand: 'Ford',\n",
    "  model: 'Mustang',\n",
    "  type: 'car',\n",
    "  year: 2021, \n",
    "  color: 'red'\n",
    "}\n",
    "\n",
    "myVehicle(vehicleOne);\n",
    "\n",
    "function myVehicle({type, color, brand, model}) {\n",
    "  const message = 'My ' + type + ' is a ' + color + ' ' + brand + ' ' + model + '.';\n",
    "}"
   ]
  },
  {
   "cell_type": "markdown",
   "metadata": {},
   "source": [
    "`Notice that the object properties do not have to be declared in a specific order.`"
   ]
  },
  {
   "cell_type": "markdown",
   "metadata": {},
   "source": []
  }
 ],
 "metadata": {
  "kernelspec": {
   "display_name": "Python 3",
   "language": "python",
   "name": "python3"
  },
  "language_info": {
   "codemirror_mode": {
    "name": "ipython",
    "version": 3
   },
   "file_extension": ".py",
   "mimetype": "text/x-python",
   "name": "python",
   "nbconvert_exporter": "python",
   "pygments_lexer": "ipython3",
   "version": "3.7.1"
  }
 },
 "nbformat": 4,
 "nbformat_minor": 2
}
