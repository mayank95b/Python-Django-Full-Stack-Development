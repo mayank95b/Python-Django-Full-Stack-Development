{
 "cells": [
  {
   "cell_type": "markdown",
   "metadata": {},
   "source": [
    "# React ES6 Classes"
   ]
  },
  {
   "cell_type": "markdown",
   "metadata": {},
   "source": [
    "### Classes\n",
    "\n",
    "ES6 introduced classes.\n",
    "\n",
    "A class is a type of function, but instead of using the keyword `function` to initiate it, we use the keyword `class`, and the properties are assigned inside a `constructor()` method.\n",
    "\n",
    "#### Example\n",
    "\n",
    "A simple class constructor:"
   ]
  },
  {
   "cell_type": "code",
   "execution_count": null,
   "metadata": {},
   "outputs": [],
   "source": [
    "class Car {\n",
    "  constructor(name) {\n",
    "    this.brand = name;\n",
    "  }\n",
    "}"
   ]
  },
  {
   "cell_type": "markdown",
   "metadata": {},
   "source": [
    "`Notice the case of the class name. We have begun the name, \"Car\", with an uppercase character. This is a standard naming convention for classes.`"
   ]
  },
  {
   "cell_type": "markdown",
   "metadata": {},
   "source": [
    "Now you can create objects using the Car class:\n",
    "\n",
    "### Example\n",
    "\n",
    "Create an object called \"mycar\" based on the Car class:"
   ]
  },
  {
   "cell_type": "code",
   "execution_count": null,
   "metadata": {},
   "outputs": [],
   "source": [
    "class Car {\n",
    "    constructor(name) {\n",
    "        this.brand = name;\n",
    "    }\n",
    "}\n",
    "\n",
    "const mycar = new Car(\"Ford\")"
   ]
  },
  {
   "cell_type": "markdown",
   "metadata": {},
   "source": [
    "## Method in Classes\n",
    "\n",
    "You can add your own methods in a class:\n",
    "\n",
    "### Example\n",
    "\n",
    "Create a method named \"present\":"
   ]
  },
  {
   "cell_type": "code",
   "execution_count": null,
   "metadata": {},
   "outputs": [],
   "source": [
    "class Car {\n",
    "    constructor(name) {\n",
    "        this.brand = name\n",
    "    }\n",
    "\n",
    "\n",
    "present() {\n",
    "    return 'I have a' + this.brand;\n",
    "    }\n",
    "}\n",
    "\n",
    "const mycar = new Car('BMW');\n",
    "mycar.present();\n"
   ]
  },
  {
   "cell_type": "markdown",
   "metadata": {},
   "source": [
    "## Class Inheritance\n",
    "\n",
    "To create a class inheritance, use the extends keyword.\n",
    "\n",
    "A class created with a class inheritance inherits all the methods from another class:\n",
    "\n",
    "### Example\n",
    "\n",
    "Create a class named \"Model\" which will inherit the methods from the \"Car\" class:"
   ]
  },
  {
   "cell_type": "code",
   "execution_count": null,
   "metadata": {},
   "outputs": [],
   "source": [
    "class Car {\n",
    "  constructor(name) {\n",
    "    this.brand = name;\n",
    "  }\n",
    "\n",
    "  present() {\n",
    "    return 'I have a ' + this.brand;\n",
    "  }\n",
    "}\n",
    "\n",
    "class Model extends Car {\n",
    "  constructor(name, mod) {\n",
    "    super(name);\n",
    "    this.model = mod;\n",
    "  }  \n",
    "  show() {\n",
    "      return this.present() + ', it is a ' + this.model\n",
    "  }\n",
    "}\n",
    "const mycar = new Model(\"Ford\", \"Mustang\");\n",
    "mycar.show();"
   ]
  },
  {
   "cell_type": "markdown",
   "metadata": {},
   "source": [
    "The `super()` method refers to the parent class.\n",
    "\n",
    "By calling the `super()` method in the constructor method, we call the parent's constructor method and get access to the parent's properties and methods."
   ]
  },
  {
   "cell_type": "markdown",
   "metadata": {},
   "source": []
  }
 ],
 "metadata": {
  "kernelspec": {
   "display_name": "Python 3",
   "language": "python",
   "name": "python3"
  },
  "language_info": {
   "codemirror_mode": {
    "name": "ipython",
    "version": 3
   },
   "file_extension": ".py",
   "mimetype": "text/x-python",
   "name": "python",
   "nbconvert_exporter": "python",
   "pygments_lexer": "ipython3",
   "version": "3.7.1"
  }
 },
 "nbformat": 4,
 "nbformat_minor": 2
}
